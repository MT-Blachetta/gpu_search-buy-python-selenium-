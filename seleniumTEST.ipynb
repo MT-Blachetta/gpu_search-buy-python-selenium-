{
 "cells": [
  {
   "cell_type": "code",
   "execution_count": 2,
   "metadata": {},
   "outputs": [],
   "source": [
    "from selenium import webdriver\n",
    "from selenium.webdriver.common.keys import Keys\n",
    "import requests\n",
    "import time\n",
    "from playsound import playsound\n",
    "import tkinter as tk\n",
    "from tkinter import messagebox\n",
    "\n",
    "#driver = webdriver.Chrome('./chromedriver/chromedriver')\n",
    "driver.get('https://www.mindfactory.de/product_info.php/AMD-Ryzen-7-5800X-8x-3-80GHz-So-AM4-WOF_1380727.html')\n",
    "driver.find_element_by_id(\"btn-buy-productInfo\").click()\n"
   ]
  },
  {
   "cell_type": "code",
   "execution_count": 6,
   "metadata": {},
   "outputs": [
    {
     "ename": "ElementClickInterceptedException",
     "evalue": "Message: element click intercepted: Element <a title=\"Alle Artkel markieren\" href=\"#\">...</a> is not clickable at point (207, 823). Other element would receive the click: <a href=\"#\" class=\"btn btn-default seenButton\" title=\"Haben Sie etwas vergessen?\">...</a>\n  (Session info: chrome=89.0.4389.90)\n",
     "output_type": "error",
     "traceback": [
      "\u001b[1;31m---------------------------------------------------------------------------\u001b[0m",
      "\u001b[1;31mElementClickInterceptedException\u001b[0m          Traceback (most recent call last)",
      "\u001b[1;32m<ipython-input-6-7ba1ee4a1a0f>\u001b[0m in \u001b[0;36m<module>\u001b[1;34m\u001b[0m\n\u001b[0;32m      1\u001b[0m \u001b[0mdriver\u001b[0m\u001b[1;33m.\u001b[0m\u001b[0mget\u001b[0m\u001b[1;33m(\u001b[0m\u001b[1;34m\"https://mindfactory.de/shopping_cart.php\"\u001b[0m\u001b[1;33m)\u001b[0m\u001b[1;33m\u001b[0m\u001b[1;33m\u001b[0m\u001b[0m\n\u001b[1;32m----> 2\u001b[1;33m \u001b[0mdriver\u001b[0m\u001b[1;33m.\u001b[0m\u001b[0mfind_element_by_css_selector\u001b[0m\u001b[1;33m(\u001b[0m\u001b[1;34m\"[title='Alle Artkel markieren']\"\u001b[0m\u001b[1;33m)\u001b[0m\u001b[1;33m.\u001b[0m\u001b[0mclick\u001b[0m\u001b[1;33m(\u001b[0m\u001b[1;33m)\u001b[0m\u001b[1;33m\u001b[0m\u001b[1;33m\u001b[0m\u001b[0m\n\u001b[0m\u001b[0;32m      3\u001b[0m \u001b[1;31m#driver.find_element_by_name(\"check_all\").setAttribute('value', '1')\u001b[0m\u001b[1;33m\u001b[0m\u001b[1;33m\u001b[0m\u001b[1;33m\u001b[0m\u001b[0m\n",
      "\u001b[1;32m~\\Anaconda3\\lib\\site-packages\\selenium\\webdriver\\remote\\webelement.py\u001b[0m in \u001b[0;36mclick\u001b[1;34m(self)\u001b[0m\n\u001b[0;32m     78\u001b[0m     \u001b[1;32mdef\u001b[0m \u001b[0mclick\u001b[0m\u001b[1;33m(\u001b[0m\u001b[0mself\u001b[0m\u001b[1;33m)\u001b[0m\u001b[1;33m:\u001b[0m\u001b[1;33m\u001b[0m\u001b[1;33m\u001b[0m\u001b[0m\n\u001b[0;32m     79\u001b[0m         \u001b[1;34m\"\"\"Clicks the element.\"\"\"\u001b[0m\u001b[1;33m\u001b[0m\u001b[1;33m\u001b[0m\u001b[0m\n\u001b[1;32m---> 80\u001b[1;33m         \u001b[0mself\u001b[0m\u001b[1;33m.\u001b[0m\u001b[0m_execute\u001b[0m\u001b[1;33m(\u001b[0m\u001b[0mCommand\u001b[0m\u001b[1;33m.\u001b[0m\u001b[0mCLICK_ELEMENT\u001b[0m\u001b[1;33m)\u001b[0m\u001b[1;33m\u001b[0m\u001b[1;33m\u001b[0m\u001b[0m\n\u001b[0m\u001b[0;32m     81\u001b[0m \u001b[1;33m\u001b[0m\u001b[0m\n\u001b[0;32m     82\u001b[0m     \u001b[1;32mdef\u001b[0m \u001b[0msubmit\u001b[0m\u001b[1;33m(\u001b[0m\u001b[0mself\u001b[0m\u001b[1;33m)\u001b[0m\u001b[1;33m:\u001b[0m\u001b[1;33m\u001b[0m\u001b[1;33m\u001b[0m\u001b[0m\n",
      "\u001b[1;32m~\\Anaconda3\\lib\\site-packages\\selenium\\webdriver\\remote\\webelement.py\u001b[0m in \u001b[0;36m_execute\u001b[1;34m(self, command, params)\u001b[0m\n\u001b[0;32m    631\u001b[0m             \u001b[0mparams\u001b[0m \u001b[1;33m=\u001b[0m \u001b[1;33m{\u001b[0m\u001b[1;33m}\u001b[0m\u001b[1;33m\u001b[0m\u001b[1;33m\u001b[0m\u001b[0m\n\u001b[0;32m    632\u001b[0m         \u001b[0mparams\u001b[0m\u001b[1;33m[\u001b[0m\u001b[1;34m'id'\u001b[0m\u001b[1;33m]\u001b[0m \u001b[1;33m=\u001b[0m \u001b[0mself\u001b[0m\u001b[1;33m.\u001b[0m\u001b[0m_id\u001b[0m\u001b[1;33m\u001b[0m\u001b[1;33m\u001b[0m\u001b[0m\n\u001b[1;32m--> 633\u001b[1;33m         \u001b[1;32mreturn\u001b[0m \u001b[0mself\u001b[0m\u001b[1;33m.\u001b[0m\u001b[0m_parent\u001b[0m\u001b[1;33m.\u001b[0m\u001b[0mexecute\u001b[0m\u001b[1;33m(\u001b[0m\u001b[0mcommand\u001b[0m\u001b[1;33m,\u001b[0m \u001b[0mparams\u001b[0m\u001b[1;33m)\u001b[0m\u001b[1;33m\u001b[0m\u001b[1;33m\u001b[0m\u001b[0m\n\u001b[0m\u001b[0;32m    634\u001b[0m \u001b[1;33m\u001b[0m\u001b[0m\n\u001b[0;32m    635\u001b[0m     \u001b[1;32mdef\u001b[0m \u001b[0mfind_element\u001b[0m\u001b[1;33m(\u001b[0m\u001b[0mself\u001b[0m\u001b[1;33m,\u001b[0m \u001b[0mby\u001b[0m\u001b[1;33m=\u001b[0m\u001b[0mBy\u001b[0m\u001b[1;33m.\u001b[0m\u001b[0mID\u001b[0m\u001b[1;33m,\u001b[0m \u001b[0mvalue\u001b[0m\u001b[1;33m=\u001b[0m\u001b[1;32mNone\u001b[0m\u001b[1;33m)\u001b[0m\u001b[1;33m:\u001b[0m\u001b[1;33m\u001b[0m\u001b[1;33m\u001b[0m\u001b[0m\n",
      "\u001b[1;32m~\\Anaconda3\\lib\\site-packages\\selenium\\webdriver\\remote\\webdriver.py\u001b[0m in \u001b[0;36mexecute\u001b[1;34m(self, driver_command, params)\u001b[0m\n\u001b[0;32m    319\u001b[0m         \u001b[0mresponse\u001b[0m \u001b[1;33m=\u001b[0m \u001b[0mself\u001b[0m\u001b[1;33m.\u001b[0m\u001b[0mcommand_executor\u001b[0m\u001b[1;33m.\u001b[0m\u001b[0mexecute\u001b[0m\u001b[1;33m(\u001b[0m\u001b[0mdriver_command\u001b[0m\u001b[1;33m,\u001b[0m \u001b[0mparams\u001b[0m\u001b[1;33m)\u001b[0m\u001b[1;33m\u001b[0m\u001b[1;33m\u001b[0m\u001b[0m\n\u001b[0;32m    320\u001b[0m         \u001b[1;32mif\u001b[0m \u001b[0mresponse\u001b[0m\u001b[1;33m:\u001b[0m\u001b[1;33m\u001b[0m\u001b[1;33m\u001b[0m\u001b[0m\n\u001b[1;32m--> 321\u001b[1;33m             \u001b[0mself\u001b[0m\u001b[1;33m.\u001b[0m\u001b[0merror_handler\u001b[0m\u001b[1;33m.\u001b[0m\u001b[0mcheck_response\u001b[0m\u001b[1;33m(\u001b[0m\u001b[0mresponse\u001b[0m\u001b[1;33m)\u001b[0m\u001b[1;33m\u001b[0m\u001b[1;33m\u001b[0m\u001b[0m\n\u001b[0m\u001b[0;32m    322\u001b[0m             response['value'] = self._unwrap_value(\n\u001b[0;32m    323\u001b[0m                 response.get('value', None))\n",
      "\u001b[1;32m~\\Anaconda3\\lib\\site-packages\\selenium\\webdriver\\remote\\errorhandler.py\u001b[0m in \u001b[0;36mcheck_response\u001b[1;34m(self, response)\u001b[0m\n\u001b[0;32m    240\u001b[0m                 \u001b[0malert_text\u001b[0m \u001b[1;33m=\u001b[0m \u001b[0mvalue\u001b[0m\u001b[1;33m[\u001b[0m\u001b[1;34m'alert'\u001b[0m\u001b[1;33m]\u001b[0m\u001b[1;33m.\u001b[0m\u001b[0mget\u001b[0m\u001b[1;33m(\u001b[0m\u001b[1;34m'text'\u001b[0m\u001b[1;33m)\u001b[0m\u001b[1;33m\u001b[0m\u001b[1;33m\u001b[0m\u001b[0m\n\u001b[0;32m    241\u001b[0m             \u001b[1;32mraise\u001b[0m \u001b[0mexception_class\u001b[0m\u001b[1;33m(\u001b[0m\u001b[0mmessage\u001b[0m\u001b[1;33m,\u001b[0m \u001b[0mscreen\u001b[0m\u001b[1;33m,\u001b[0m \u001b[0mstacktrace\u001b[0m\u001b[1;33m,\u001b[0m \u001b[0malert_text\u001b[0m\u001b[1;33m)\u001b[0m\u001b[1;33m\u001b[0m\u001b[1;33m\u001b[0m\u001b[0m\n\u001b[1;32m--> 242\u001b[1;33m         \u001b[1;32mraise\u001b[0m \u001b[0mexception_class\u001b[0m\u001b[1;33m(\u001b[0m\u001b[0mmessage\u001b[0m\u001b[1;33m,\u001b[0m \u001b[0mscreen\u001b[0m\u001b[1;33m,\u001b[0m \u001b[0mstacktrace\u001b[0m\u001b[1;33m)\u001b[0m\u001b[1;33m\u001b[0m\u001b[1;33m\u001b[0m\u001b[0m\n\u001b[0m\u001b[0;32m    243\u001b[0m \u001b[1;33m\u001b[0m\u001b[0m\n\u001b[0;32m    244\u001b[0m     \u001b[1;32mdef\u001b[0m \u001b[0m_value_or_default\u001b[0m\u001b[1;33m(\u001b[0m\u001b[0mself\u001b[0m\u001b[1;33m,\u001b[0m \u001b[0mobj\u001b[0m\u001b[1;33m,\u001b[0m \u001b[0mkey\u001b[0m\u001b[1;33m,\u001b[0m \u001b[0mdefault\u001b[0m\u001b[1;33m)\u001b[0m\u001b[1;33m:\u001b[0m\u001b[1;33m\u001b[0m\u001b[1;33m\u001b[0m\u001b[0m\n",
      "\u001b[1;31mElementClickInterceptedException\u001b[0m: Message: element click intercepted: Element <a title=\"Alle Artkel markieren\" href=\"#\">...</a> is not clickable at point (207, 823). Other element would receive the click: <a href=\"#\" class=\"btn btn-default seenButton\" title=\"Haben Sie etwas vergessen?\">...</a>\n  (Session info: chrome=89.0.4389.90)\n"
     ]
    }
   ],
   "source": [
    "driver.get(\"https://mindfactory.de/shopping_cart.php\")\n",
    "driver.find_element_by_css_selector(\"[title='Alle Artkel markieren']\").click()\n",
    "#driver.find_element_by_name(\"check_all\").setAttribute('value', '1')"
   ]
  },
  {
   "cell_type": "code",
   "execution_count": 18,
   "metadata": {},
   "outputs": [],
   "source": [
    "driver = webdriver.Chrome('./chromedriver/chromedriver')\n",
    "query = \"rtx+3060+ti\"\n",
    "driver.get(\"https://www.mindfactory.de/search_result.php?search_query=\"+query)\n",
    "#driver.get(\"https://www.mindfactory.de/shopping_cart.php\")\n",
    "#driver.maximize_window()"
   ]
  },
  {
   "cell_type": "code",
   "execution_count": 19,
   "metadata": {},
   "outputs": [],
   "source": [
    "driver.find_element_by_id(\"checkcookie\").click()\n",
    "\n",
    "#driver.get('https://www.mindfactory.de/product_info.php/AMD-Ryzen-7-5800X-8x-3-80GHz-So-AM4-WOF_1380727.html')\n",
    "#url = driver.current_url\n",
    "#url"
   ]
  },
  {
   "cell_type": "code",
   "execution_count": 17,
   "metadata": {},
   "outputs": [],
   "source": [
    "if titelinfo.startswith(\"Suche nach\"):\n",
    "    if \":\" in titelinfo:\n",
    "        print('PERFEKT !')\n",
    "    else:\n",
    "        print('NOTHING')"
   ]
  },
  {
   "cell_type": "code",
   "execution_count": 6,
   "metadata": {},
   "outputs": [
    {
     "data": {
      "text/plain": [
       "<selenium.webdriver.remote.webelement.WebElement (session=\"7a6ec494f15e977f9a66b00304bd4a45\", element=\"8112c6f8-7ea6-45ce-8b1e-90576e25869c\")>"
      ]
     },
     "execution_count": 6,
     "metadata": {},
     "output_type": "execute_result"
    }
   ],
   "source": [
    "elm = driver.find_element_by_id(\"btn-buy-productInfo\")\n",
    "elm"
   ]
  },
  {
   "cell_type": "code",
   "execution_count": 7,
   "metadata": {},
   "outputs": [],
   "source": [
    "elm.click()"
   ]
  },
  {
   "cell_type": "code",
   "execution_count": 8,
   "metadata": {},
   "outputs": [],
   "source": [
    "driver.get(\"https://www.mindfactory.de/order_login.php\")"
   ]
  },
  {
   "cell_type": "code",
   "execution_count": 12,
   "metadata": {},
   "outputs": [],
   "source": [
    "mail = driver.find_element_by_id(\"login_email_address\")\n",
    "mail.clear()\n",
    "mail.send_keys(\"michaelblachetta@gmail.com\")"
   ]
  },
  {
   "cell_type": "code",
   "execution_count": 13,
   "metadata": {},
   "outputs": [],
   "source": [
    "psw = driver.find_element_by_id(\"login_password\")\n",
    "psw.clear()\n",
    "psw.send_keys(\"M#yxcvbnm123\")"
   ]
  },
  {
   "cell_type": "code",
   "execution_count": 14,
   "metadata": {},
   "outputs": [],
   "source": [
    "form = driver.find_element_by_id(\"login_form\")\n",
    "form.submit()"
   ]
  },
  {
   "cell_type": "code",
   "execution_count": 17,
   "metadata": {},
   "outputs": [],
   "source": [
    "driver.find_element_by_name(\"conditions\").click()\n",
    "driver.find_element_by_name(\"privacy\").click()\n",
    "driver.find_element_by_name(\"disclaimer\").click()"
   ]
  },
  {
   "cell_type": "code",
   "execution_count": 20,
   "metadata": {},
   "outputs": [
    {
     "name": "stdout",
     "output_type": "stream",
     "text": [
      "Notebook 17.3\" (43,94cm) MSI GP76 Leopard 10UG-291 (144 Hz/3 ms, i7, 16 GB, 512 GB, RTX3070, Win10)\n",
      "https://www.mindfactory.de/product_info.php/search/true/Notebook-17-3Zoll--43-94cm--MSI-GP76-Leopard-10UG-291--144-_1397039.html\n",
      "Alphacool Eisblock Aurora Acryl GPX-N RTX 3070 Gaming X Trio mit Backplate\n",
      "https://www.mindfactory.de/product_info.php/search/true/Alphacool-Eisblock-Aurora-Acryl-GPX-N-RTX-3070-Gaming-X-Tri_1391915.html\n",
      "Alphacool Eisblock Aurora Acryl GPX-N RTX 3070 mit Backplate (Reference)\n",
      "https://www.mindfactory.de/product_info.php/search/true/Alphacool-Eisblock-Aurora-Acryl-GPX-N-RTX-3070-mit-Backplat_1383421.html\n",
      "Alphacool Eisblock Aurora Acryl GPX-N RTX 3070 Gaming Twin Edge mit Backplate\n",
      "https://www.mindfactory.de/product_info.php/search/true/Alphacool-Eisblock-Aurora-Acryl-GPX-N-RTX-3070-Gaming-Twin-_1395495.html\n",
      "EK Water Blocks EK-Quantum Vector StrixRTX 3070/80/90 Backplate Nickel\n",
      "https://www.mindfactory.de/product_info.php/search/true/EK-Water-Blocks-EK-Quantum-Vector-StrixRTX-3070-80-90-Backp_1390992.html\n",
      "Alphacool Eisblock Aurora Acryl GPX-N RTX 3070 Founders Edition mit Backplate\n",
      "https://www.mindfactory.de/product_info.php/search/true/Alphacool-Eisblock-Aurora-Acryl-GPX-N-RTX-3070-Founders-Edi_1401217.html\n",
      "EK Water Blocks EK-Quantum Vector StrixRTX 3070/80/90 Backplate Schwarz\n",
      "https://www.mindfactory.de/product_info.php/search/true/EK-Water-Blocks-EK-Quantum-Vector-StrixRTX-3070-80-90-Backp_1390990.html\n",
      "Notebook 15.6\" (39,62cm) Razer Blade 15 Base Model (FHD-144Hz, i7, 16 GB,512 GB, RTX 3070, Win10)\n",
      "https://www.mindfactory.de/product_info.php/search/true/Notebook-15-6Zoll--39-62cm--Razer-Blade-15-Base-Model--FHD-_1400444.html\n"
     ]
    },
    {
     "data": {
      "text/plain": [
       "\"\\nimport tkinter as tk\\nfrom tkinter import messagebox\\n\\nroot= tk.Tk()\\n\\ncanvas1 = tk.Canvas(root, width = 300, height = 300)\\ncanvas1.pack()\\n\\ndef addToBlacklist():\\n    MsgBox = tk.messagebox.askquestion ('addBlcklist','Do you want to add the item to the blacklist ?',icon = 'warning')\\n    if MsgBox == 'yes':\\n       EXECUTE\\n    else:\\n        tk.messagebox.showinfo('Return','Not added')\\n\\nbutton1 = tk.Button (root, text='Add_Blacklist',command=addToBlacklist,bg='brown',fg='white')\\ncanvas1.create_window(150, 150, window=button1)\\n  \\nroot.mainloop()\\n\""
      ]
     },
     "execution_count": 20,
     "metadata": {},
     "output_type": "execute_result"
    }
   ],
   "source": [
    "\n",
    "\n",
    "def checkNameList(name,keylist):\n",
    "\n",
    "    target = name.upper()\n",
    "\n",
    "    for key in keylist:\n",
    "        if key.upper() not in target:\n",
    "            return False\n",
    "\n",
    "    return True\n",
    "        \n",
    "\n",
    "def searchInit(driver,query):\n",
    "\n",
    "    # INITIALISATION\n",
    "    driver.get(\"https://www.mindfactory.de/search_result.php?search_query=\"+query)\n",
    "    titelinfo = driver.title\n",
    "    blacklist = []\n",
    "\n",
    "    if titelinfo.startswith(\"Suche nach\"):\n",
    "        if \":\" in titelinfo:\n",
    "            sresult = driver.find_element_by_id(\"bProducts\")\n",
    "            itemlist = sresult.find_elements_by_class_name(\"p\")\n",
    "\n",
    "            for i in itemlist:\n",
    "                pname = i.find_element_by_class_name(\"pname\").text\n",
    "                blacklist.append(pname)\n",
    "\n",
    "    return blacklist\n",
    "\n",
    "\n",
    "def search(driver,query,blacklist,keylist):\n",
    "    # ITERATION\n",
    "\n",
    "    driver.get(\"https://www.mindfactory.de/search_result.php?search_query=\"+query)\n",
    "    titelinfo = driver.title\n",
    "    blacklist_ = []\n",
    "\n",
    "    if titelinfo.startswith(\"Suche nach\"):\n",
    "        if \":\" in titelinfo:\n",
    "            sresult = driver.find_element_by_id(\"bProducts\")\n",
    "            itemlist = sresult.find_elements_by_class_name(\"p\")\n",
    "\n",
    "            for i in itemlist:\n",
    "                pname = i.find_element_by_class_name(\"pname\").text\n",
    "                link = i.find_element_by_tag_name(\"a\").get_attribute(\"href\")\n",
    "                if pname not in blacklist:\n",
    "                    if checkNameList(pname,keylist):\n",
    "                        blacklist_ = buy(link,blacklist,pname)\n",
    "    \n",
    "    return blacklist_\n",
    "            \n",
    "\n",
    "\n",
    "\n",
    "def buy(hyperlink,blacklist,pname):\n",
    "    driver.get(hyperlink)\n",
    "    driver.find_element_by_id(\"btn-buy-productInfo\").click()\n",
    "    driver.get(\"https://mindfactory.de/shopping_cart.php\")\n",
    "    driver.get(\"https://www.mindfactory.de/order_login.php\")\n",
    "    \n",
    "    mail = driver.find_element_by_id(\"login_email_address\")\n",
    "    mail.clear()\n",
    "    mail.send_keys(\"michaelblachetta@gmail.com\")\n",
    "    psw = driver.find_element_by_id(\"login_password\")\n",
    "    psw.clear()\n",
    "    psw.send_keys(\"M#yxcvbnm123\")\n",
    "    form = driver.find_element_by_id(\"login_form\")\n",
    "    form.submit()\n",
    "    \n",
    "    driver.find_element_by_name(\"conditions\").click()\n",
    "    driver.find_element_by_name(\"privacy\").click()\n",
    "    driver.find_element_by_name(\"disclaimer\").click()\n",
    "    \n",
    "    driver.maximize_window()    \n",
    "    playsound('alert.mp3')\n",
    "    root = tk.Tk()\n",
    "    MsgBox = tk.messagebox.askquestion ('addBlcklist','Do you want to add the item to the blacklist ?',icon = 'warning')\n",
    "    if MsgBox == 'yes':\n",
    "        blacklist = blacklist.append(pname)\n",
    "    \n",
    "    root.destroy()\n",
    "        \n",
    "    return blacklist\n",
    "    \n",
    "    \"\"\"\n",
    "    root= tk.Tk()\n",
    "\n",
    "    canvas1 = tk.Canvas(root, width = 300, height = 300)\n",
    "    canvas1.pack()\n",
    "    button1 = tk.Button (root, text='Add_Blacklist',command=addToBlacklist(root),bg='brown',fg='white')\n",
    "    canvas1.create_window(150, 150, window=button1)\n",
    "  \n",
    "    root.mainloop()\n",
    "    \"\"\"\n",
    "    \n",
    "if __name__ == '__main__':\n",
    "    # Load chrome\n",
    "    driver = webdriver.Chrome('./chromedriver/chromedriver')\n",
    "    \n",
    "    qrtx3070 = \"geforce+rtx+3070\"\n",
    "    qrtx3060tiA = \"geforce+rtx+3060+ti\"\n",
    "    qrtx3060tiB = \"geforce+rtx+3060ti\"\n",
    "    qrtx3080 = \"geforce+rtx+3080\"\n",
    "    qrtx3090 = \"geforce+rtx+3090\"\n",
    "    qrxRadeon67 = \"Radeon+RX+6700\"\n",
    "    qrxRadeon68 = \"Radeon+RX+6800\"\n",
    "    qrxRadeon69 = \"Radeon+RX+6900\"\n",
    "\n",
    "    Krtx3070 = [\"geforce\",\"rtx\",\"3070\"]\n",
    "    Krtx3060tiA = [\"geforce\",\"rtx\",\"3060\",\"ti\"]\n",
    "    Krtx3060tiB = [\"geforce\",\"rtx\",\"3060ti\"]\n",
    "    Krtx3080 = [\"geforce\",\"rtx\",\"3080\"]\n",
    "    Krtx3090 = [\"geforce\",\"rtx\",\"3090\"]\n",
    "    KrxRadeon67 = [\"Radeon\",\"RX\",\"6700\"]\n",
    "    KrxRadeon68 = [\"Radeon\",\"RX\",\"6800\"]\n",
    "    KrxRadeon69 = [\"Radeon\",\"RX\",\"6900\"]\n",
    "\n",
    "\n",
    "    querylist = [ qrtx3070, qrtx3060tiA, qrtx3060tiB, qrtx3080, qrtx3090, qrxRadeon67, qrxRadeon68, qrxRadeon69 ]\n",
    "    keywordlist = [ Krtx3070, Krtx3060tiA, Krtx3060tiB, Krtx3080, Krtx3090, KrxRadeon67, KrxRadeon68, KrxRadeon69 ]\n",
    "\n",
    "    blist = []\n",
    "\n",
    "    for q in querylist:\n",
    "        blist.append(searchInit(driver,q))\n",
    "\n",
    "    while(True):\n",
    "        for i, q in enumerate(querylist):\n",
    "            blist[i] = search(driver,q,blist[i],keywordlist[i]) \n",
    "    \n",
    "    \n"
   ]
  },
  {
   "cell_type": "code",
   "execution_count": null,
   "metadata": {},
   "outputs": [],
   "source": []
  }
 ],
 "metadata": {
  "kernelspec": {
   "display_name": "Python 3",
   "language": "python",
   "name": "python3"
  },
  "language_info": {
   "codemirror_mode": {
    "name": "ipython",
    "version": 3
   },
   "file_extension": ".py",
   "mimetype": "text/x-python",
   "name": "python",
   "nbconvert_exporter": "python",
   "pygments_lexer": "ipython3",
   "version": "3.7.3"
  }
 },
 "nbformat": 4,
 "nbformat_minor": 2
}
